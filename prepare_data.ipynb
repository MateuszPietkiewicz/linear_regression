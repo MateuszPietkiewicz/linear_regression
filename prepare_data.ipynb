{
 "cells": [
  {
   "cell_type": "code",
   "execution_count": 126,
   "id": "9a79af15-4248-4944-99d6-73934c01d234",
   "metadata": {},
   "outputs": [],
   "source": [
    "from pathlib import Path\n",
    "import kagglehub\n",
    "import pandas as pd\n",
    "import pandera.pandas as pa\n",
    "import warnings\n",
    "\n",
    "import numpy as np"
   ]
  },
  {
   "cell_type": "code",
   "execution_count": 2,
   "id": "8bebb407-d0bb-445f-9452-8a35b989f35b",
   "metadata": {},
   "outputs": [
    {
     "name": "stdout",
     "output_type": "stream",
     "text": [
      "Downloading from https://www.kaggle.com/api/v1/datasets/download/paultimothymooney/stock-market-data?dataset_version_number=74...\n"
     ]
    },
    {
     "name": "stderr",
     "output_type": "stream",
     "text": [
      "100%|█████████████████████████████████████| 1.03G/1.03G [06:23<00:00, 2.89MB/s]"
     ]
    },
    {
     "name": "stdout",
     "output_type": "stream",
     "text": [
      "Extracting files...\n"
     ]
    },
    {
     "name": "stderr",
     "output_type": "stream",
     "text": [
      "\n"
     ]
    },
    {
     "name": "stdout",
     "output_type": "stream",
     "text": [
      "Path to dataset files: C:\\Users\\mateu\\.cache\\kagglehub\\datasets\\paultimothymooney\\stock-market-data\\versions\\74\n"
     ]
    }
   ],
   "source": [
    "path = kagglehub.dataset_download(\"paultimothymooney/stock-market-data/\")\n",
    "\n",
    "print(\"Path to dataset files:\", path)"
   ]
  },
  {
   "cell_type": "code",
   "execution_count": 42,
   "id": "62a6f9e7-beb7-45a4-a47a-0a6dd0d3d34a",
   "metadata": {},
   "outputs": [],
   "source": [
    "PATH_RAW = Path(\"raw\")"
   ]
  },
  {
   "cell_type": "code",
   "execution_count": 43,
   "id": "770ac1b3-c93c-4074-84f2-c6607479f973",
   "metadata": {},
   "outputs": [
    {
     "name": "stdout",
     "output_type": "stream",
     "text": [
      "C:\\Users\\mateu\\.cache\\kagglehub\\datasets\\paultimothymooney\\stock-market-data\\versions\\74\\stock_market_data\\sp500\\csv\\GOOG.csv\n"
     ]
    }
   ],
   "source": [
    "!ls C:\\Users\\mateu\\.cache\\kagglehub\\datasets\\paultimothymooney\\stock-market-data\\versions\\74\\stock_market_data\\sp500\\csv\\GOOG.csv"
   ]
  },
  {
   "cell_type": "code",
   "execution_count": 44,
   "id": "c755bc02-b7bb-477d-b96a-b0b8c1bafb0a",
   "metadata": {},
   "outputs": [],
   "source": [
    "sp500_path = Path(path + \"/stock_market_data/sp500/csv/GOOG.csv\")"
   ]
  },
  {
   "cell_type": "code",
   "execution_count": 45,
   "id": "54c513f1-6de7-4566-a40c-b4bb80eeb526",
   "metadata": {},
   "outputs": [],
   "source": [
    "df_goog = pd.read_csv(sp500_path, parse_dates=[\"Date\"], index_col=\"Date\", usecols=[\"Date\",\"Adjusted Close\"], dayfirst=True)"
   ]
  },
  {
   "cell_type": "code",
   "execution_count": 46,
   "id": "731aa0da-81d7-49de-a683-eca14ff1c1a0",
   "metadata": {},
   "outputs": [
    {
     "data": {
      "text/html": [
       "<div>\n",
       "<style scoped>\n",
       "    .dataframe tbody tr th:only-of-type {\n",
       "        vertical-align: middle;\n",
       "    }\n",
       "\n",
       "    .dataframe tbody tr th {\n",
       "        vertical-align: top;\n",
       "    }\n",
       "\n",
       "    .dataframe thead th {\n",
       "        text-align: right;\n",
       "    }\n",
       "</style>\n",
       "<table border=\"1\" class=\"dataframe\">\n",
       "  <thead>\n",
       "    <tr style=\"text-align: right;\">\n",
       "      <th></th>\n",
       "      <th>Adjusted Close</th>\n",
       "    </tr>\n",
       "    <tr>\n",
       "      <th>Date</th>\n",
       "      <th></th>\n",
       "    </tr>\n",
       "  </thead>\n",
       "  <tbody>\n",
       "    <tr>\n",
       "      <th>2004-08-19</th>\n",
       "      <td>2.499133</td>\n",
       "    </tr>\n",
       "    <tr>\n",
       "      <th>2004-08-20</th>\n",
       "      <td>2.697639</td>\n",
       "    </tr>\n",
       "    <tr>\n",
       "      <th>2004-08-23</th>\n",
       "      <td>2.724787</td>\n",
       "    </tr>\n",
       "    <tr>\n",
       "      <th>2004-08-24</th>\n",
       "      <td>2.611960</td>\n",
       "    </tr>\n",
       "    <tr>\n",
       "      <th>2004-08-25</th>\n",
       "      <td>2.640104</td>\n",
       "    </tr>\n",
       "    <tr>\n",
       "      <th>...</th>\n",
       "      <td>...</td>\n",
       "    </tr>\n",
       "    <tr>\n",
       "      <th>2022-12-06</th>\n",
       "      <td>97.309998</td>\n",
       "    </tr>\n",
       "    <tr>\n",
       "      <th>2022-12-07</th>\n",
       "      <td>95.150002</td>\n",
       "    </tr>\n",
       "    <tr>\n",
       "      <th>2022-12-08</th>\n",
       "      <td>93.949997</td>\n",
       "    </tr>\n",
       "    <tr>\n",
       "      <th>2022-12-09</th>\n",
       "      <td>93.070000</td>\n",
       "    </tr>\n",
       "    <tr>\n",
       "      <th>2022-12-12</th>\n",
       "      <td>92.474998</td>\n",
       "    </tr>\n",
       "  </tbody>\n",
       "</table>\n",
       "<p>4612 rows × 1 columns</p>\n",
       "</div>"
      ],
      "text/plain": [
       "            Adjusted Close\n",
       "Date                      \n",
       "2004-08-19        2.499133\n",
       "2004-08-20        2.697639\n",
       "2004-08-23        2.724787\n",
       "2004-08-24        2.611960\n",
       "2004-08-25        2.640104\n",
       "...                    ...\n",
       "2022-12-06       97.309998\n",
       "2022-12-07       95.150002\n",
       "2022-12-08       93.949997\n",
       "2022-12-09       93.070000\n",
       "2022-12-12       92.474998\n",
       "\n",
       "[4612 rows x 1 columns]"
      ]
     },
     "execution_count": 46,
     "metadata": {},
     "output_type": "execute_result"
    }
   ],
   "source": [
    "df_goog"
   ]
  },
  {
   "cell_type": "code",
   "execution_count": 47,
   "id": "12b97478-50ad-4d57-991f-fa5c1d40cdb3",
   "metadata": {},
   "outputs": [
    {
     "data": {
      "text/plain": [
       "Date\n",
       "2004-08-19         NaN\n",
       "2004-08-20    0.079430\n",
       "2004-08-23    0.010064\n",
       "2004-08-24   -0.041408\n",
       "2004-08-25    0.010775\n",
       "                ...   \n",
       "2022-12-06   -0.025633\n",
       "2022-12-07   -0.022197\n",
       "2022-12-08   -0.012612\n",
       "2022-12-09   -0.009367\n",
       "2022-12-12   -0.006393\n",
       "Name: Adjusted Close, Length: 4612, dtype: float64"
      ]
     },
     "execution_count": 47,
     "metadata": {},
     "output_type": "execute_result"
    }
   ],
   "source": [
    "df_goog[\"Adjusted Close\"].pct_change()"
   ]
  },
  {
   "cell_type": "code",
   "execution_count": 48,
   "id": "d16da946-acb4-4fcc-a687-e703900421b0",
   "metadata": {},
   "outputs": [],
   "source": [
    "df_goog[\"LogReturn\"] = np.log(df_goog[\"Adjusted Close\"] / df_goog[\"Adjusted Close\"].shift(1))"
   ]
  },
  {
   "cell_type": "code",
   "execution_count": 49,
   "id": "fb595cfa-89ed-4548-a5c0-1e295e251753",
   "metadata": {},
   "outputs": [
    {
     "data": {
      "text/html": [
       "<div>\n",
       "<style scoped>\n",
       "    .dataframe tbody tr th:only-of-type {\n",
       "        vertical-align: middle;\n",
       "    }\n",
       "\n",
       "    .dataframe tbody tr th {\n",
       "        vertical-align: top;\n",
       "    }\n",
       "\n",
       "    .dataframe thead th {\n",
       "        text-align: right;\n",
       "    }\n",
       "</style>\n",
       "<table border=\"1\" class=\"dataframe\">\n",
       "  <thead>\n",
       "    <tr style=\"text-align: right;\">\n",
       "      <th></th>\n",
       "      <th>Adjusted Close</th>\n",
       "      <th>LogReturn</th>\n",
       "    </tr>\n",
       "    <tr>\n",
       "      <th>Date</th>\n",
       "      <th></th>\n",
       "      <th></th>\n",
       "    </tr>\n",
       "  </thead>\n",
       "  <tbody>\n",
       "    <tr>\n",
       "      <th>2004-08-19</th>\n",
       "      <td>2.499133</td>\n",
       "      <td>NaN</td>\n",
       "    </tr>\n",
       "    <tr>\n",
       "      <th>2004-08-20</th>\n",
       "      <td>2.697639</td>\n",
       "      <td>0.076433</td>\n",
       "    </tr>\n",
       "    <tr>\n",
       "      <th>2004-08-23</th>\n",
       "      <td>2.724787</td>\n",
       "      <td>0.010013</td>\n",
       "    </tr>\n",
       "    <tr>\n",
       "      <th>2004-08-24</th>\n",
       "      <td>2.611960</td>\n",
       "      <td>-0.042289</td>\n",
       "    </tr>\n",
       "    <tr>\n",
       "      <th>2004-08-25</th>\n",
       "      <td>2.640104</td>\n",
       "      <td>0.010717</td>\n",
       "    </tr>\n",
       "    <tr>\n",
       "      <th>...</th>\n",
       "      <td>...</td>\n",
       "      <td>...</td>\n",
       "    </tr>\n",
       "    <tr>\n",
       "      <th>2022-12-06</th>\n",
       "      <td>97.309998</td>\n",
       "      <td>-0.025968</td>\n",
       "    </tr>\n",
       "    <tr>\n",
       "      <th>2022-12-07</th>\n",
       "      <td>95.150002</td>\n",
       "      <td>-0.022447</td>\n",
       "    </tr>\n",
       "    <tr>\n",
       "      <th>2022-12-08</th>\n",
       "      <td>93.949997</td>\n",
       "      <td>-0.012692</td>\n",
       "    </tr>\n",
       "    <tr>\n",
       "      <th>2022-12-09</th>\n",
       "      <td>93.070000</td>\n",
       "      <td>-0.009411</td>\n",
       "    </tr>\n",
       "    <tr>\n",
       "      <th>2022-12-12</th>\n",
       "      <td>92.474998</td>\n",
       "      <td>-0.006414</td>\n",
       "    </tr>\n",
       "  </tbody>\n",
       "</table>\n",
       "<p>4612 rows × 2 columns</p>\n",
       "</div>"
      ],
      "text/plain": [
       "            Adjusted Close  LogReturn\n",
       "Date                                 \n",
       "2004-08-19        2.499133        NaN\n",
       "2004-08-20        2.697639   0.076433\n",
       "2004-08-23        2.724787   0.010013\n",
       "2004-08-24        2.611960  -0.042289\n",
       "2004-08-25        2.640104   0.010717\n",
       "...                    ...        ...\n",
       "2022-12-06       97.309998  -0.025968\n",
       "2022-12-07       95.150002  -0.022447\n",
       "2022-12-08       93.949997  -0.012692\n",
       "2022-12-09       93.070000  -0.009411\n",
       "2022-12-12       92.474998  -0.006414\n",
       "\n",
       "[4612 rows x 2 columns]"
      ]
     },
     "execution_count": 49,
     "metadata": {},
     "output_type": "execute_result"
    }
   ],
   "source": [
    "df_goog"
   ]
  },
  {
   "cell_type": "code",
   "execution_count": 50,
   "id": "952bc8fe-20ab-496f-9edc-b1719a9cce84",
   "metadata": {},
   "outputs": [],
   "source": [
    "df_goog = df_goog.drop(columns=[\"Adjusted Close\"])"
   ]
  },
  {
   "cell_type": "code",
   "execution_count": 51,
   "id": "4c01ddf2-3da5-4d20-adfb-738ae8062c28",
   "metadata": {},
   "outputs": [],
   "source": [
    "df_goog = df_goog.dropna()"
   ]
  },
  {
   "cell_type": "code",
   "execution_count": 52,
   "id": "0d7ed30d-9318-48c2-9e9b-78396b8de42d",
   "metadata": {},
   "outputs": [
    {
     "data": {
      "text/html": [
       "<div>\n",
       "<style scoped>\n",
       "    .dataframe tbody tr th:only-of-type {\n",
       "        vertical-align: middle;\n",
       "    }\n",
       "\n",
       "    .dataframe tbody tr th {\n",
       "        vertical-align: top;\n",
       "    }\n",
       "\n",
       "    .dataframe thead th {\n",
       "        text-align: right;\n",
       "    }\n",
       "</style>\n",
       "<table border=\"1\" class=\"dataframe\">\n",
       "  <thead>\n",
       "    <tr style=\"text-align: right;\">\n",
       "      <th></th>\n",
       "      <th>LogReturn</th>\n",
       "    </tr>\n",
       "    <tr>\n",
       "      <th>Date</th>\n",
       "      <th></th>\n",
       "    </tr>\n",
       "  </thead>\n",
       "  <tbody>\n",
       "    <tr>\n",
       "      <th>2004-08-20</th>\n",
       "      <td>0.076433</td>\n",
       "    </tr>\n",
       "    <tr>\n",
       "      <th>2004-08-23</th>\n",
       "      <td>0.010013</td>\n",
       "    </tr>\n",
       "    <tr>\n",
       "      <th>2004-08-24</th>\n",
       "      <td>-0.042289</td>\n",
       "    </tr>\n",
       "    <tr>\n",
       "      <th>2004-08-25</th>\n",
       "      <td>0.010717</td>\n",
       "    </tr>\n",
       "    <tr>\n",
       "      <th>2004-08-26</th>\n",
       "      <td>0.017859</td>\n",
       "    </tr>\n",
       "  </tbody>\n",
       "</table>\n",
       "</div>"
      ],
      "text/plain": [
       "            LogReturn\n",
       "Date                 \n",
       "2004-08-20   0.076433\n",
       "2004-08-23   0.010013\n",
       "2004-08-24  -0.042289\n",
       "2004-08-25   0.010717\n",
       "2004-08-26   0.017859"
      ]
     },
     "execution_count": 52,
     "metadata": {},
     "output_type": "execute_result"
    }
   ],
   "source": [
    "df_goog.head()"
   ]
  },
  {
   "cell_type": "code",
   "execution_count": 55,
   "id": "bb48ce81-6b7e-40fe-8ffc-d9a6b1f0d1db",
   "metadata": {},
   "outputs": [],
   "source": [
    "df_goog.to_parquet(PATH_RAW/ \"googl_returns.parquet\", index=True)"
   ]
  },
  {
   "cell_type": "code",
   "execution_count": 21,
   "id": "5a617c1d-04be-47f6-a53f-7b387e907e33",
   "metadata": {},
   "outputs": [],
   "source": [
    "df_goog = pd.read_parquet(\"raw/googl_returns.parquet\")"
   ]
  },
  {
   "cell_type": "code",
   "execution_count": 22,
   "id": "0e988de0-759e-42ee-903e-4472769b091b",
   "metadata": {},
   "outputs": [
    {
     "data": {
      "text/plain": [
       "(4611, 1)"
      ]
     },
     "execution_count": 22,
     "metadata": {},
     "output_type": "execute_result"
    }
   ],
   "source": [
    "df_goog.shape"
   ]
  },
  {
   "cell_type": "code",
   "execution_count": 26,
   "id": "0787c4c2-5fd7-4819-bf28-13d4f6821cef",
   "metadata": {
    "scrolled": true
   },
   "outputs": [],
   "source": [
    "df_goog.loc['2021'].to_parquet(\"raw/googl_returns_2021.parquet\", index=True)"
   ]
  },
  {
   "cell_type": "code",
   "execution_count": 171,
   "id": "0f38f841-6cfe-4369-a868-e82c776c69a8",
   "metadata": {},
   "outputs": [],
   "source": [
    "df_goog = pd.read_parquet(\"raw/googl_returns_2021.parquet\")"
   ]
  },
  {
   "cell_type": "code",
   "execution_count": 172,
   "id": "7b6d131c-3108-4407-9fd8-3a56cb34b6a0",
   "metadata": {},
   "outputs": [
    {
     "data": {
      "text/html": [
       "<div>\n",
       "<style scoped>\n",
       "    .dataframe tbody tr th:only-of-type {\n",
       "        vertical-align: middle;\n",
       "    }\n",
       "\n",
       "    .dataframe tbody tr th {\n",
       "        vertical-align: top;\n",
       "    }\n",
       "\n",
       "    .dataframe thead th {\n",
       "        text-align: right;\n",
       "    }\n",
       "</style>\n",
       "<table border=\"1\" class=\"dataframe\">\n",
       "  <thead>\n",
       "    <tr style=\"text-align: right;\">\n",
       "      <th></th>\n",
       "      <th>LogReturn</th>\n",
       "    </tr>\n",
       "    <tr>\n",
       "      <th>Date</th>\n",
       "      <th></th>\n",
       "    </tr>\n",
       "  </thead>\n",
       "  <tbody>\n",
       "    <tr>\n",
       "      <th>2021-01-04</th>\n",
       "      <td>-0.013586</td>\n",
       "    </tr>\n",
       "    <tr>\n",
       "      <th>2021-01-05</th>\n",
       "      <td>0.007310</td>\n",
       "    </tr>\n",
       "    <tr>\n",
       "      <th>2021-01-06</th>\n",
       "      <td>-0.003239</td>\n",
       "    </tr>\n",
       "    <tr>\n",
       "      <th>2021-01-07</th>\n",
       "      <td>0.029504</td>\n",
       "    </tr>\n",
       "    <tr>\n",
       "      <th>2021-01-08</th>\n",
       "      <td>0.011106</td>\n",
       "    </tr>\n",
       "    <tr>\n",
       "      <th>...</th>\n",
       "      <td>...</td>\n",
       "    </tr>\n",
       "    <tr>\n",
       "      <th>2021-12-27</th>\n",
       "      <td>0.006243</td>\n",
       "    </tr>\n",
       "    <tr>\n",
       "      <th>2021-12-28</th>\n",
       "      <td>-0.010974</td>\n",
       "    </tr>\n",
       "    <tr>\n",
       "      <th>2021-12-29</th>\n",
       "      <td>0.000386</td>\n",
       "    </tr>\n",
       "    <tr>\n",
       "      <th>2021-12-30</th>\n",
       "      <td>-0.003432</td>\n",
       "    </tr>\n",
       "    <tr>\n",
       "      <th>2021-12-31</th>\n",
       "      <td>-0.009103</td>\n",
       "    </tr>\n",
       "  </tbody>\n",
       "</table>\n",
       "<p>252 rows × 1 columns</p>\n",
       "</div>"
      ],
      "text/plain": [
       "            LogReturn\n",
       "Date                 \n",
       "2021-01-04  -0.013586\n",
       "2021-01-05   0.007310\n",
       "2021-01-06  -0.003239\n",
       "2021-01-07   0.029504\n",
       "2021-01-08   0.011106\n",
       "...               ...\n",
       "2021-12-27   0.006243\n",
       "2021-12-28  -0.010974\n",
       "2021-12-29   0.000386\n",
       "2021-12-30  -0.003432\n",
       "2021-12-31  -0.009103\n",
       "\n",
       "[252 rows x 1 columns]"
      ]
     },
     "execution_count": 172,
     "metadata": {},
     "output_type": "execute_result"
    }
   ],
   "source": [
    "df_goog"
   ]
  },
  {
   "cell_type": "code",
   "execution_count": 173,
   "id": "3ba53dac-7fcc-4cff-ab2b-84c243a9e650",
   "metadata": {},
   "outputs": [],
   "source": [
    "df_sp500 = pd.read_csv(\"INDEX_US_S&P_US_SPX_2021.csv\", parse_dates=[\"Date\"], index_col=\"Date\", usecols=[\"Date\", \"Close\"], thousands=',').sort_index()"
   ]
  },
  {
   "cell_type": "code",
   "execution_count": 174,
   "id": "14d1a532-38aa-495c-b41e-da18411ed15a",
   "metadata": {},
   "outputs": [
    {
     "data": {
      "text/plain": [
       "(252, 1)"
      ]
     },
     "execution_count": 174,
     "metadata": {},
     "output_type": "execute_result"
    }
   ],
   "source": [
    "df_sp500.shape"
   ]
  },
  {
   "cell_type": "code",
   "execution_count": 175,
   "id": "39cfb6aa-1f26-4fdc-b2bc-793cb7b5ef7a",
   "metadata": {},
   "outputs": [
    {
     "data": {
      "text/html": [
       "<div>\n",
       "<style scoped>\n",
       "    .dataframe tbody tr th:only-of-type {\n",
       "        vertical-align: middle;\n",
       "    }\n",
       "\n",
       "    .dataframe tbody tr th {\n",
       "        vertical-align: top;\n",
       "    }\n",
       "\n",
       "    .dataframe thead th {\n",
       "        text-align: right;\n",
       "    }\n",
       "</style>\n",
       "<table border=\"1\" class=\"dataframe\">\n",
       "  <thead>\n",
       "    <tr style=\"text-align: right;\">\n",
       "      <th></th>\n",
       "      <th>Close</th>\n",
       "    </tr>\n",
       "    <tr>\n",
       "      <th>Date</th>\n",
       "      <th></th>\n",
       "    </tr>\n",
       "  </thead>\n",
       "  <tbody>\n",
       "    <tr>\n",
       "      <th>2021-01-04</th>\n",
       "      <td>3700.65</td>\n",
       "    </tr>\n",
       "    <tr>\n",
       "      <th>2021-01-05</th>\n",
       "      <td>3726.86</td>\n",
       "    </tr>\n",
       "    <tr>\n",
       "      <th>2021-01-06</th>\n",
       "      <td>3748.14</td>\n",
       "    </tr>\n",
       "    <tr>\n",
       "      <th>2021-01-07</th>\n",
       "      <td>3803.79</td>\n",
       "    </tr>\n",
       "    <tr>\n",
       "      <th>2021-01-08</th>\n",
       "      <td>3824.68</td>\n",
       "    </tr>\n",
       "    <tr>\n",
       "      <th>...</th>\n",
       "      <td>...</td>\n",
       "    </tr>\n",
       "    <tr>\n",
       "      <th>2021-12-27</th>\n",
       "      <td>4791.19</td>\n",
       "    </tr>\n",
       "    <tr>\n",
       "      <th>2021-12-28</th>\n",
       "      <td>4786.35</td>\n",
       "    </tr>\n",
       "    <tr>\n",
       "      <th>2021-12-29</th>\n",
       "      <td>4793.06</td>\n",
       "    </tr>\n",
       "    <tr>\n",
       "      <th>2021-12-30</th>\n",
       "      <td>4778.73</td>\n",
       "    </tr>\n",
       "    <tr>\n",
       "      <th>2021-12-31</th>\n",
       "      <td>4766.18</td>\n",
       "    </tr>\n",
       "  </tbody>\n",
       "</table>\n",
       "<p>252 rows × 1 columns</p>\n",
       "</div>"
      ],
      "text/plain": [
       "              Close\n",
       "Date               \n",
       "2021-01-04  3700.65\n",
       "2021-01-05  3726.86\n",
       "2021-01-06  3748.14\n",
       "2021-01-07  3803.79\n",
       "2021-01-08  3824.68\n",
       "...             ...\n",
       "2021-12-27  4791.19\n",
       "2021-12-28  4786.35\n",
       "2021-12-29  4793.06\n",
       "2021-12-30  4778.73\n",
       "2021-12-31  4766.18\n",
       "\n",
       "[252 rows x 1 columns]"
      ]
     },
     "execution_count": 175,
     "metadata": {},
     "output_type": "execute_result"
    }
   ],
   "source": [
    "df_sp500"
   ]
  },
  {
   "cell_type": "code",
   "execution_count": 176,
   "id": "9b150618-bf29-41f2-b612-0c4e687646e8",
   "metadata": {},
   "outputs": [
    {
     "data": {
      "text/plain": [
       "Close    float64\n",
       "dtype: object"
      ]
     },
     "execution_count": 176,
     "metadata": {},
     "output_type": "execute_result"
    }
   ],
   "source": [
    "df_sp500.dtypes"
   ]
  },
  {
   "cell_type": "code",
   "execution_count": 177,
   "id": "ff0d2fb8-775a-4ed0-a184-aae1fab48be7",
   "metadata": {},
   "outputs": [],
   "source": [
    "df_sp500[\"LogReturn\"] = np.log(df_sp500[\"Close\"] / df_sp500[\"Close\"].shift(1))"
   ]
  },
  {
   "cell_type": "code",
   "execution_count": null,
   "id": "986da6af-67b1-49d6-978f-e32dbad59d9a",
   "metadata": {},
   "outputs": [],
   "source": []
  },
  {
   "cell_type": "code",
   "execution_count": 178,
   "id": "221cc731-749a-4bd8-95e3-c12267571170",
   "metadata": {},
   "outputs": [],
   "source": [
    "df_sp500 = df_sp500.drop(columns=[\"Close\"])"
   ]
  },
  {
   "cell_type": "code",
   "execution_count": 179,
   "id": "b811bb94-b8da-43cd-9241-92ce597a7654",
   "metadata": {},
   "outputs": [],
   "source": [
    "df_sp500 = df_sp500.dropna()"
   ]
  },
  {
   "cell_type": "code",
   "execution_count": 180,
   "id": "18200fbc-7a9b-4a82-8007-329c02cc8f4d",
   "metadata": {},
   "outputs": [
    {
     "data": {
      "text/html": [
       "<div>\n",
       "<style scoped>\n",
       "    .dataframe tbody tr th:only-of-type {\n",
       "        vertical-align: middle;\n",
       "    }\n",
       "\n",
       "    .dataframe tbody tr th {\n",
       "        vertical-align: top;\n",
       "    }\n",
       "\n",
       "    .dataframe thead th {\n",
       "        text-align: right;\n",
       "    }\n",
       "</style>\n",
       "<table border=\"1\" class=\"dataframe\">\n",
       "  <thead>\n",
       "    <tr style=\"text-align: right;\">\n",
       "      <th></th>\n",
       "      <th>LogReturn</th>\n",
       "    </tr>\n",
       "    <tr>\n",
       "      <th>Date</th>\n",
       "      <th></th>\n",
       "    </tr>\n",
       "  </thead>\n",
       "  <tbody>\n",
       "    <tr>\n",
       "      <th>2021-01-05</th>\n",
       "      <td>0.007058</td>\n",
       "    </tr>\n",
       "    <tr>\n",
       "      <th>2021-01-06</th>\n",
       "      <td>0.005694</td>\n",
       "    </tr>\n",
       "    <tr>\n",
       "      <th>2021-01-07</th>\n",
       "      <td>0.014738</td>\n",
       "    </tr>\n",
       "    <tr>\n",
       "      <th>2021-01-08</th>\n",
       "      <td>0.005477</td>\n",
       "    </tr>\n",
       "    <tr>\n",
       "      <th>2021-01-11</th>\n",
       "      <td>-0.006576</td>\n",
       "    </tr>\n",
       "    <tr>\n",
       "      <th>...</th>\n",
       "      <td>...</td>\n",
       "    </tr>\n",
       "    <tr>\n",
       "      <th>2021-12-27</th>\n",
       "      <td>0.013744</td>\n",
       "    </tr>\n",
       "    <tr>\n",
       "      <th>2021-12-28</th>\n",
       "      <td>-0.001011</td>\n",
       "    </tr>\n",
       "    <tr>\n",
       "      <th>2021-12-29</th>\n",
       "      <td>0.001401</td>\n",
       "    </tr>\n",
       "    <tr>\n",
       "      <th>2021-12-30</th>\n",
       "      <td>-0.002994</td>\n",
       "    </tr>\n",
       "    <tr>\n",
       "      <th>2021-12-31</th>\n",
       "      <td>-0.002630</td>\n",
       "    </tr>\n",
       "  </tbody>\n",
       "</table>\n",
       "<p>251 rows × 1 columns</p>\n",
       "</div>"
      ],
      "text/plain": [
       "            LogReturn\n",
       "Date                 \n",
       "2021-01-05   0.007058\n",
       "2021-01-06   0.005694\n",
       "2021-01-07   0.014738\n",
       "2021-01-08   0.005477\n",
       "2021-01-11  -0.006576\n",
       "...               ...\n",
       "2021-12-27   0.013744\n",
       "2021-12-28  -0.001011\n",
       "2021-12-29   0.001401\n",
       "2021-12-30  -0.002994\n",
       "2021-12-31  -0.002630\n",
       "\n",
       "[251 rows x 1 columns]"
      ]
     },
     "execution_count": 180,
     "metadata": {},
     "output_type": "execute_result"
    }
   ],
   "source": [
    "df_sp500"
   ]
  },
  {
   "cell_type": "code",
   "execution_count": 183,
   "id": "89d4ea43-aed8-4875-bd7e-7dd95fa8d5b8",
   "metadata": {},
   "outputs": [],
   "source": [
    "#pandera\n",
    "schema_log_returns = pa.DataFrameSchema(\n",
    "    {\n",
    "        \"LogReturn\": pa.Column(\n",
    "            float,\n",
    "            checks=[\n",
    "                pa.Check.greater_than(-1),\n",
    "                pa.Check.less_than(1)\n",
    "            ],\n",
    "            nullable=False,\n",
    "        )\n",
    "    },\n",
    "    index=pa.Index(\n",
    "        pa.DateTime,\n",
    "        name=\"Date\",\n",
    "        checks=[\n",
    "            pa.Check.in_range('2021-01-01', '2021-12-31'),\n",
    "            # pa.Check(lambda idx: idx.is_monotonic_incressing, element_wise=False)\n",
    "        ]\n",
    "    ),\n",
    "    strict=True, #nie moze miec wiecej kolumn niz tu mamy zdefiniownaych\n",
    "    coerce=True\n",
    ")"
   ]
  },
  {
   "cell_type": "code",
   "execution_count": 157,
   "id": "839bfe37-10ea-423d-bdc6-8f2c5acbc188",
   "metadata": {},
   "outputs": [],
   "source": []
  },
  {
   "cell_type": "code",
   "execution_count": 158,
   "id": "48c16c95-cdc1-4431-aaf4-3264cfcc834d",
   "metadata": {},
   "outputs": [
    {
     "data": {
      "text/plain": [
       "'0.26.1'"
      ]
     },
     "execution_count": 158,
     "metadata": {},
     "output_type": "execute_result"
    }
   ],
   "source": []
  },
  {
   "cell_type": "code",
   "execution_count": null,
   "id": "58f69219-d9b1-4fcd-bf6d-94b525bd167e",
   "metadata": {},
   "outputs": [],
   "source": []
  },
  {
   "cell_type": "code",
   "execution_count": null,
   "id": "5eb053d4-120b-42ed-99bf-109073ff580f",
   "metadata": {},
   "outputs": [],
   "source": []
  },
  {
   "cell_type": "code",
   "execution_count": 184,
   "id": "b3ddc9d8-c1d0-4ce1-9d0a-d62384ba957f",
   "metadata": {},
   "outputs": [
    {
     "data": {
      "text/html": [
       "<div>\n",
       "<style scoped>\n",
       "    .dataframe tbody tr th:only-of-type {\n",
       "        vertical-align: middle;\n",
       "    }\n",
       "\n",
       "    .dataframe tbody tr th {\n",
       "        vertical-align: top;\n",
       "    }\n",
       "\n",
       "    .dataframe thead th {\n",
       "        text-align: right;\n",
       "    }\n",
       "</style>\n",
       "<table border=\"1\" class=\"dataframe\">\n",
       "  <thead>\n",
       "    <tr style=\"text-align: right;\">\n",
       "      <th></th>\n",
       "      <th>LogReturn</th>\n",
       "    </tr>\n",
       "    <tr>\n",
       "      <th>Date</th>\n",
       "      <th></th>\n",
       "    </tr>\n",
       "  </thead>\n",
       "  <tbody>\n",
       "    <tr>\n",
       "      <th>2021-01-05</th>\n",
       "      <td>0.007058</td>\n",
       "    </tr>\n",
       "    <tr>\n",
       "      <th>2021-01-06</th>\n",
       "      <td>0.005694</td>\n",
       "    </tr>\n",
       "    <tr>\n",
       "      <th>2021-01-07</th>\n",
       "      <td>0.014738</td>\n",
       "    </tr>\n",
       "    <tr>\n",
       "      <th>2021-01-08</th>\n",
       "      <td>0.005477</td>\n",
       "    </tr>\n",
       "    <tr>\n",
       "      <th>2021-01-11</th>\n",
       "      <td>-0.006576</td>\n",
       "    </tr>\n",
       "    <tr>\n",
       "      <th>...</th>\n",
       "      <td>...</td>\n",
       "    </tr>\n",
       "    <tr>\n",
       "      <th>2021-12-27</th>\n",
       "      <td>0.013744</td>\n",
       "    </tr>\n",
       "    <tr>\n",
       "      <th>2021-12-28</th>\n",
       "      <td>-0.001011</td>\n",
       "    </tr>\n",
       "    <tr>\n",
       "      <th>2021-12-29</th>\n",
       "      <td>0.001401</td>\n",
       "    </tr>\n",
       "    <tr>\n",
       "      <th>2021-12-30</th>\n",
       "      <td>-0.002994</td>\n",
       "    </tr>\n",
       "    <tr>\n",
       "      <th>2021-12-31</th>\n",
       "      <td>-0.002630</td>\n",
       "    </tr>\n",
       "  </tbody>\n",
       "</table>\n",
       "<p>251 rows × 1 columns</p>\n",
       "</div>"
      ],
      "text/plain": [
       "            LogReturn\n",
       "Date                 \n",
       "2021-01-05   0.007058\n",
       "2021-01-06   0.005694\n",
       "2021-01-07   0.014738\n",
       "2021-01-08   0.005477\n",
       "2021-01-11  -0.006576\n",
       "...               ...\n",
       "2021-12-27   0.013744\n",
       "2021-12-28  -0.001011\n",
       "2021-12-29   0.001401\n",
       "2021-12-30  -0.002994\n",
       "2021-12-31  -0.002630\n",
       "\n",
       "[251 rows x 1 columns]"
      ]
     },
     "execution_count": 184,
     "metadata": {},
     "output_type": "execute_result"
    }
   ],
   "source": [
    "schema_log_returns.validate(df_sp500)"
   ]
  },
  {
   "cell_type": "code",
   "execution_count": 185,
   "id": "8f81e884-c8e1-49c4-be88-3ce8c21c288d",
   "metadata": {},
   "outputs": [
    {
     "data": {
      "text/html": [
       "<div>\n",
       "<style scoped>\n",
       "    .dataframe tbody tr th:only-of-type {\n",
       "        vertical-align: middle;\n",
       "    }\n",
       "\n",
       "    .dataframe tbody tr th {\n",
       "        vertical-align: top;\n",
       "    }\n",
       "\n",
       "    .dataframe thead th {\n",
       "        text-align: right;\n",
       "    }\n",
       "</style>\n",
       "<table border=\"1\" class=\"dataframe\">\n",
       "  <thead>\n",
       "    <tr style=\"text-align: right;\">\n",
       "      <th></th>\n",
       "      <th>LogReturn</th>\n",
       "    </tr>\n",
       "    <tr>\n",
       "      <th>Date</th>\n",
       "      <th></th>\n",
       "    </tr>\n",
       "  </thead>\n",
       "  <tbody>\n",
       "    <tr>\n",
       "      <th>2021-01-04</th>\n",
       "      <td>-0.013586</td>\n",
       "    </tr>\n",
       "    <tr>\n",
       "      <th>2021-01-05</th>\n",
       "      <td>0.007310</td>\n",
       "    </tr>\n",
       "    <tr>\n",
       "      <th>2021-01-06</th>\n",
       "      <td>-0.003239</td>\n",
       "    </tr>\n",
       "    <tr>\n",
       "      <th>2021-01-07</th>\n",
       "      <td>0.029504</td>\n",
       "    </tr>\n",
       "    <tr>\n",
       "      <th>2021-01-08</th>\n",
       "      <td>0.011106</td>\n",
       "    </tr>\n",
       "    <tr>\n",
       "      <th>...</th>\n",
       "      <td>...</td>\n",
       "    </tr>\n",
       "    <tr>\n",
       "      <th>2021-12-27</th>\n",
       "      <td>0.006243</td>\n",
       "    </tr>\n",
       "    <tr>\n",
       "      <th>2021-12-28</th>\n",
       "      <td>-0.010974</td>\n",
       "    </tr>\n",
       "    <tr>\n",
       "      <th>2021-12-29</th>\n",
       "      <td>0.000386</td>\n",
       "    </tr>\n",
       "    <tr>\n",
       "      <th>2021-12-30</th>\n",
       "      <td>-0.003432</td>\n",
       "    </tr>\n",
       "    <tr>\n",
       "      <th>2021-12-31</th>\n",
       "      <td>-0.009103</td>\n",
       "    </tr>\n",
       "  </tbody>\n",
       "</table>\n",
       "<p>252 rows × 1 columns</p>\n",
       "</div>"
      ],
      "text/plain": [
       "            LogReturn\n",
       "Date                 \n",
       "2021-01-04  -0.013586\n",
       "2021-01-05   0.007310\n",
       "2021-01-06  -0.003239\n",
       "2021-01-07   0.029504\n",
       "2021-01-08   0.011106\n",
       "...               ...\n",
       "2021-12-27   0.006243\n",
       "2021-12-28  -0.010974\n",
       "2021-12-29   0.000386\n",
       "2021-12-30  -0.003432\n",
       "2021-12-31  -0.009103\n",
       "\n",
       "[252 rows x 1 columns]"
      ]
     },
     "execution_count": 185,
     "metadata": {},
     "output_type": "execute_result"
    }
   ],
   "source": [
    "schema_log_returns.validate(df_goog)"
   ]
  },
  {
   "cell_type": "code",
   "execution_count": 186,
   "id": "8bbd4472-ce9a-42ef-b561-55e70a0ed15b",
   "metadata": {},
   "outputs": [],
   "source": [
    "df_sp500.to_parquet(\"raw/sp500_returns_2021.parquet\", index=True)"
   ]
  },
  {
   "cell_type": "code",
   "execution_count": null,
   "id": "bf25720d-8cc2-47a3-b6d9-05a1478d2557",
   "metadata": {},
   "outputs": [],
   "source": []
  }
 ],
 "metadata": {
  "kernelspec": {
   "display_name": "Python 3 (ipykernel)",
   "language": "python",
   "name": "python3"
  },
  "language_info": {
   "codemirror_mode": {
    "name": "ipython",
    "version": 3
   },
   "file_extension": ".py",
   "mimetype": "text/x-python",
   "name": "python",
   "nbconvert_exporter": "python",
   "pygments_lexer": "ipython3",
   "version": "3.13.0"
  }
 },
 "nbformat": 4,
 "nbformat_minor": 5
}
