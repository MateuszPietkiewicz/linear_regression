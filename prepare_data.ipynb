{
 "cells": [
  {
   "cell_type": "code",
   "execution_count": 41,
   "id": "9a79af15-4248-4944-99d6-73934c01d234",
   "metadata": {},
   "outputs": [],
   "source": [
    "from pathlib import Path\n",
    "import kagglehub\n",
    "import pandas as pd\n",
    "import numpy as np"
   ]
  },
  {
   "cell_type": "code",
   "execution_count": 2,
   "id": "8bebb407-d0bb-445f-9452-8a35b989f35b",
   "metadata": {},
   "outputs": [
    {
     "name": "stdout",
     "output_type": "stream",
     "text": [
      "Downloading from https://www.kaggle.com/api/v1/datasets/download/paultimothymooney/stock-market-data?dataset_version_number=74...\n"
     ]
    },
    {
     "name": "stderr",
     "output_type": "stream",
     "text": [
      "100%|█████████████████████████████████████| 1.03G/1.03G [06:23<00:00, 2.89MB/s]"
     ]
    },
    {
     "name": "stdout",
     "output_type": "stream",
     "text": [
      "Extracting files...\n"
     ]
    },
    {
     "name": "stderr",
     "output_type": "stream",
     "text": [
      "\n"
     ]
    },
    {
     "name": "stdout",
     "output_type": "stream",
     "text": [
      "Path to dataset files: C:\\Users\\mateu\\.cache\\kagglehub\\datasets\\paultimothymooney\\stock-market-data\\versions\\74\n"
     ]
    }
   ],
   "source": [
    "path = kagglehub.dataset_download(\"paultimothymooney/stock-market-data/\")\n",
    "\n",
    "print(\"Path to dataset files:\", path)"
   ]
  },
  {
   "cell_type": "code",
   "execution_count": 42,
   "id": "62a6f9e7-beb7-45a4-a47a-0a6dd0d3d34a",
   "metadata": {},
   "outputs": [],
   "source": [
    "PATH_RAW = Path(\"raw\")"
   ]
  },
  {
   "cell_type": "code",
   "execution_count": 43,
   "id": "770ac1b3-c93c-4074-84f2-c6607479f973",
   "metadata": {},
   "outputs": [
    {
     "name": "stdout",
     "output_type": "stream",
     "text": [
      "C:\\Users\\mateu\\.cache\\kagglehub\\datasets\\paultimothymooney\\stock-market-data\\versions\\74\\stock_market_data\\sp500\\csv\\GOOG.csv\n"
     ]
    }
   ],
   "source": [
    "!ls C:\\Users\\mateu\\.cache\\kagglehub\\datasets\\paultimothymooney\\stock-market-data\\versions\\74\\stock_market_data\\sp500\\csv\\GOOG.csv"
   ]
  },
  {
   "cell_type": "code",
   "execution_count": 44,
   "id": "c755bc02-b7bb-477d-b96a-b0b8c1bafb0a",
   "metadata": {},
   "outputs": [],
   "source": [
    "sp500_path = Path(path + \"/stock_market_data/sp500/csv/GOOG.csv\")"
   ]
  },
  {
   "cell_type": "code",
   "execution_count": 45,
   "id": "54c513f1-6de7-4566-a40c-b4bb80eeb526",
   "metadata": {},
   "outputs": [],
   "source": [
    "df_goog = pd.read_csv(sp500_path, parse_dates=[\"Date\"], index_col=\"Date\", usecols=[\"Date\",\"Adjusted Close\"], dayfirst=True)"
   ]
  },
  {
   "cell_type": "code",
   "execution_count": 46,
   "id": "731aa0da-81d7-49de-a683-eca14ff1c1a0",
   "metadata": {},
   "outputs": [
    {
     "data": {
      "text/html": [
       "<div>\n",
       "<style scoped>\n",
       "    .dataframe tbody tr th:only-of-type {\n",
       "        vertical-align: middle;\n",
       "    }\n",
       "\n",
       "    .dataframe tbody tr th {\n",
       "        vertical-align: top;\n",
       "    }\n",
       "\n",
       "    .dataframe thead th {\n",
       "        text-align: right;\n",
       "    }\n",
       "</style>\n",
       "<table border=\"1\" class=\"dataframe\">\n",
       "  <thead>\n",
       "    <tr style=\"text-align: right;\">\n",
       "      <th></th>\n",
       "      <th>Adjusted Close</th>\n",
       "    </tr>\n",
       "    <tr>\n",
       "      <th>Date</th>\n",
       "      <th></th>\n",
       "    </tr>\n",
       "  </thead>\n",
       "  <tbody>\n",
       "    <tr>\n",
       "      <th>2004-08-19</th>\n",
       "      <td>2.499133</td>\n",
       "    </tr>\n",
       "    <tr>\n",
       "      <th>2004-08-20</th>\n",
       "      <td>2.697639</td>\n",
       "    </tr>\n",
       "    <tr>\n",
       "      <th>2004-08-23</th>\n",
       "      <td>2.724787</td>\n",
       "    </tr>\n",
       "    <tr>\n",
       "      <th>2004-08-24</th>\n",
       "      <td>2.611960</td>\n",
       "    </tr>\n",
       "    <tr>\n",
       "      <th>2004-08-25</th>\n",
       "      <td>2.640104</td>\n",
       "    </tr>\n",
       "    <tr>\n",
       "      <th>...</th>\n",
       "      <td>...</td>\n",
       "    </tr>\n",
       "    <tr>\n",
       "      <th>2022-12-06</th>\n",
       "      <td>97.309998</td>\n",
       "    </tr>\n",
       "    <tr>\n",
       "      <th>2022-12-07</th>\n",
       "      <td>95.150002</td>\n",
       "    </tr>\n",
       "    <tr>\n",
       "      <th>2022-12-08</th>\n",
       "      <td>93.949997</td>\n",
       "    </tr>\n",
       "    <tr>\n",
       "      <th>2022-12-09</th>\n",
       "      <td>93.070000</td>\n",
       "    </tr>\n",
       "    <tr>\n",
       "      <th>2022-12-12</th>\n",
       "      <td>92.474998</td>\n",
       "    </tr>\n",
       "  </tbody>\n",
       "</table>\n",
       "<p>4612 rows × 1 columns</p>\n",
       "</div>"
      ],
      "text/plain": [
       "            Adjusted Close\n",
       "Date                      \n",
       "2004-08-19        2.499133\n",
       "2004-08-20        2.697639\n",
       "2004-08-23        2.724787\n",
       "2004-08-24        2.611960\n",
       "2004-08-25        2.640104\n",
       "...                    ...\n",
       "2022-12-06       97.309998\n",
       "2022-12-07       95.150002\n",
       "2022-12-08       93.949997\n",
       "2022-12-09       93.070000\n",
       "2022-12-12       92.474998\n",
       "\n",
       "[4612 rows x 1 columns]"
      ]
     },
     "execution_count": 46,
     "metadata": {},
     "output_type": "execute_result"
    }
   ],
   "source": [
    "df_goog"
   ]
  },
  {
   "cell_type": "code",
   "execution_count": 47,
   "id": "12b97478-50ad-4d57-991f-fa5c1d40cdb3",
   "metadata": {},
   "outputs": [
    {
     "data": {
      "text/plain": [
       "Date\n",
       "2004-08-19         NaN\n",
       "2004-08-20    0.079430\n",
       "2004-08-23    0.010064\n",
       "2004-08-24   -0.041408\n",
       "2004-08-25    0.010775\n",
       "                ...   \n",
       "2022-12-06   -0.025633\n",
       "2022-12-07   -0.022197\n",
       "2022-12-08   -0.012612\n",
       "2022-12-09   -0.009367\n",
       "2022-12-12   -0.006393\n",
       "Name: Adjusted Close, Length: 4612, dtype: float64"
      ]
     },
     "execution_count": 47,
     "metadata": {},
     "output_type": "execute_result"
    }
   ],
   "source": [
    "df_goog[\"Adjusted Close\"].pct_change()"
   ]
  },
  {
   "cell_type": "code",
   "execution_count": 48,
   "id": "d16da946-acb4-4fcc-a687-e703900421b0",
   "metadata": {},
   "outputs": [],
   "source": [
    "df_goog[\"LogReturn\"] = np.log(df_goog[\"Adjusted Close\"] / df_goog[\"Adjusted Close\"].shift(1))"
   ]
  },
  {
   "cell_type": "code",
   "execution_count": 49,
   "id": "fb595cfa-89ed-4548-a5c0-1e295e251753",
   "metadata": {},
   "outputs": [
    {
     "data": {
      "text/html": [
       "<div>\n",
       "<style scoped>\n",
       "    .dataframe tbody tr th:only-of-type {\n",
       "        vertical-align: middle;\n",
       "    }\n",
       "\n",
       "    .dataframe tbody tr th {\n",
       "        vertical-align: top;\n",
       "    }\n",
       "\n",
       "    .dataframe thead th {\n",
       "        text-align: right;\n",
       "    }\n",
       "</style>\n",
       "<table border=\"1\" class=\"dataframe\">\n",
       "  <thead>\n",
       "    <tr style=\"text-align: right;\">\n",
       "      <th></th>\n",
       "      <th>Adjusted Close</th>\n",
       "      <th>LogReturn</th>\n",
       "    </tr>\n",
       "    <tr>\n",
       "      <th>Date</th>\n",
       "      <th></th>\n",
       "      <th></th>\n",
       "    </tr>\n",
       "  </thead>\n",
       "  <tbody>\n",
       "    <tr>\n",
       "      <th>2004-08-19</th>\n",
       "      <td>2.499133</td>\n",
       "      <td>NaN</td>\n",
       "    </tr>\n",
       "    <tr>\n",
       "      <th>2004-08-20</th>\n",
       "      <td>2.697639</td>\n",
       "      <td>0.076433</td>\n",
       "    </tr>\n",
       "    <tr>\n",
       "      <th>2004-08-23</th>\n",
       "      <td>2.724787</td>\n",
       "      <td>0.010013</td>\n",
       "    </tr>\n",
       "    <tr>\n",
       "      <th>2004-08-24</th>\n",
       "      <td>2.611960</td>\n",
       "      <td>-0.042289</td>\n",
       "    </tr>\n",
       "    <tr>\n",
       "      <th>2004-08-25</th>\n",
       "      <td>2.640104</td>\n",
       "      <td>0.010717</td>\n",
       "    </tr>\n",
       "    <tr>\n",
       "      <th>...</th>\n",
       "      <td>...</td>\n",
       "      <td>...</td>\n",
       "    </tr>\n",
       "    <tr>\n",
       "      <th>2022-12-06</th>\n",
       "      <td>97.309998</td>\n",
       "      <td>-0.025968</td>\n",
       "    </tr>\n",
       "    <tr>\n",
       "      <th>2022-12-07</th>\n",
       "      <td>95.150002</td>\n",
       "      <td>-0.022447</td>\n",
       "    </tr>\n",
       "    <tr>\n",
       "      <th>2022-12-08</th>\n",
       "      <td>93.949997</td>\n",
       "      <td>-0.012692</td>\n",
       "    </tr>\n",
       "    <tr>\n",
       "      <th>2022-12-09</th>\n",
       "      <td>93.070000</td>\n",
       "      <td>-0.009411</td>\n",
       "    </tr>\n",
       "    <tr>\n",
       "      <th>2022-12-12</th>\n",
       "      <td>92.474998</td>\n",
       "      <td>-0.006414</td>\n",
       "    </tr>\n",
       "  </tbody>\n",
       "</table>\n",
       "<p>4612 rows × 2 columns</p>\n",
       "</div>"
      ],
      "text/plain": [
       "            Adjusted Close  LogReturn\n",
       "Date                                 \n",
       "2004-08-19        2.499133        NaN\n",
       "2004-08-20        2.697639   0.076433\n",
       "2004-08-23        2.724787   0.010013\n",
       "2004-08-24        2.611960  -0.042289\n",
       "2004-08-25        2.640104   0.010717\n",
       "...                    ...        ...\n",
       "2022-12-06       97.309998  -0.025968\n",
       "2022-12-07       95.150002  -0.022447\n",
       "2022-12-08       93.949997  -0.012692\n",
       "2022-12-09       93.070000  -0.009411\n",
       "2022-12-12       92.474998  -0.006414\n",
       "\n",
       "[4612 rows x 2 columns]"
      ]
     },
     "execution_count": 49,
     "metadata": {},
     "output_type": "execute_result"
    }
   ],
   "source": [
    "df_goog"
   ]
  },
  {
   "cell_type": "code",
   "execution_count": 50,
   "id": "952bc8fe-20ab-496f-9edc-b1719a9cce84",
   "metadata": {},
   "outputs": [],
   "source": [
    "df_goog = df_goog.drop(columns=[\"Adjusted Close\"])"
   ]
  },
  {
   "cell_type": "code",
   "execution_count": 51,
   "id": "4c01ddf2-3da5-4d20-adfb-738ae8062c28",
   "metadata": {},
   "outputs": [],
   "source": [
    "df_goog = df_goog.dropna()"
   ]
  },
  {
   "cell_type": "code",
   "execution_count": 52,
   "id": "0d7ed30d-9318-48c2-9e9b-78396b8de42d",
   "metadata": {},
   "outputs": [
    {
     "data": {
      "text/html": [
       "<div>\n",
       "<style scoped>\n",
       "    .dataframe tbody tr th:only-of-type {\n",
       "        vertical-align: middle;\n",
       "    }\n",
       "\n",
       "    .dataframe tbody tr th {\n",
       "        vertical-align: top;\n",
       "    }\n",
       "\n",
       "    .dataframe thead th {\n",
       "        text-align: right;\n",
       "    }\n",
       "</style>\n",
       "<table border=\"1\" class=\"dataframe\">\n",
       "  <thead>\n",
       "    <tr style=\"text-align: right;\">\n",
       "      <th></th>\n",
       "      <th>LogReturn</th>\n",
       "    </tr>\n",
       "    <tr>\n",
       "      <th>Date</th>\n",
       "      <th></th>\n",
       "    </tr>\n",
       "  </thead>\n",
       "  <tbody>\n",
       "    <tr>\n",
       "      <th>2004-08-20</th>\n",
       "      <td>0.076433</td>\n",
       "    </tr>\n",
       "    <tr>\n",
       "      <th>2004-08-23</th>\n",
       "      <td>0.010013</td>\n",
       "    </tr>\n",
       "    <tr>\n",
       "      <th>2004-08-24</th>\n",
       "      <td>-0.042289</td>\n",
       "    </tr>\n",
       "    <tr>\n",
       "      <th>2004-08-25</th>\n",
       "      <td>0.010717</td>\n",
       "    </tr>\n",
       "    <tr>\n",
       "      <th>2004-08-26</th>\n",
       "      <td>0.017859</td>\n",
       "    </tr>\n",
       "  </tbody>\n",
       "</table>\n",
       "</div>"
      ],
      "text/plain": [
       "            LogReturn\n",
       "Date                 \n",
       "2004-08-20   0.076433\n",
       "2004-08-23   0.010013\n",
       "2004-08-24  -0.042289\n",
       "2004-08-25   0.010717\n",
       "2004-08-26   0.017859"
      ]
     },
     "execution_count": 52,
     "metadata": {},
     "output_type": "execute_result"
    }
   ],
   "source": [
    "df_goog.head()"
   ]
  },
  {
   "cell_type": "code",
   "execution_count": 55,
   "id": "bb48ce81-6b7e-40fe-8ffc-d9a6b1f0d1db",
   "metadata": {},
   "outputs": [],
   "source": [
    "df_goog.to_parquet(PATH_RAW/ \"googl_returns.parquet\", index=True)"
   ]
  },
  {
   "cell_type": "code",
   "execution_count": null,
   "id": "5a617c1d-04be-47f6-a53f-7b387e907e33",
   "metadata": {},
   "outputs": [],
   "source": []
  },
  {
   "cell_type": "code",
   "execution_count": null,
   "id": "0e988de0-759e-42ee-903e-4472769b091b",
   "metadata": {},
   "outputs": [],
   "source": []
  }
 ],
 "metadata": {
  "kernelspec": {
   "display_name": "Python 3 (ipykernel)",
   "language": "python",
   "name": "python3"
  },
  "language_info": {
   "codemirror_mode": {
    "name": "ipython",
    "version": 3
   },
   "file_extension": ".py",
   "mimetype": "text/x-python",
   "name": "python",
   "nbconvert_exporter": "python",
   "pygments_lexer": "ipython3",
   "version": "3.13.0"
  }
 },
 "nbformat": 4,
 "nbformat_minor": 5
}
